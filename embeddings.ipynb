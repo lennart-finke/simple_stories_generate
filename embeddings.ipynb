{
 "cells": [
  {
   "cell_type": "code",
   "execution_count": 1,
   "metadata": {},
   "outputs": [
    {
     "name": "stdout",
     "output_type": "stream",
     "text": [
      "Requirement already satisfied: ipykernel in /Users/pc/Library/Python/3.12/lib/python/site-packages (6.29.5)\n",
      "Requirement already satisfied: umap-learn in /Library/Frameworks/Python.framework/Versions/3.12/lib/python3.12/site-packages (0.5.7)\n",
      "Requirement already satisfied: plotly in /Library/Frameworks/Python.framework/Versions/3.12/lib/python3.12/site-packages (5.24.1)\n",
      "Requirement already satisfied: numpy in /Library/Frameworks/Python.framework/Versions/3.12/lib/python3.12/site-packages (2.0.0)\n",
      "Requirement already satisfied: appnope in /Users/pc/Library/Python/3.12/lib/python/site-packages (from ipykernel) (0.1.4)\n",
      "Requirement already satisfied: comm>=0.1.1 in /Users/pc/Library/Python/3.12/lib/python/site-packages (from ipykernel) (0.2.2)\n",
      "Requirement already satisfied: debugpy>=1.6.5 in /Users/pc/Library/Python/3.12/lib/python/site-packages (from ipykernel) (1.8.5)\n",
      "Requirement already satisfied: ipython>=7.23.1 in /Users/pc/Library/Python/3.12/lib/python/site-packages (from ipykernel) (8.27.0)\n",
      "Requirement already satisfied: jupyter-client>=6.1.12 in /Users/pc/Library/Python/3.12/lib/python/site-packages (from ipykernel) (8.6.2)\n",
      "Requirement already satisfied: jupyter-core!=5.0.*,>=4.12 in /Users/pc/Library/Python/3.12/lib/python/site-packages (from ipykernel) (5.7.2)\n",
      "Requirement already satisfied: matplotlib-inline>=0.1 in /Users/pc/Library/Python/3.12/lib/python/site-packages (from ipykernel) (0.1.7)\n",
      "Requirement already satisfied: nest-asyncio in /Users/pc/Library/Python/3.12/lib/python/site-packages (from ipykernel) (1.6.0)\n",
      "Requirement already satisfied: packaging in /Users/pc/Library/Python/3.12/lib/python/site-packages (from ipykernel) (24.1)\n",
      "Requirement already satisfied: psutil in /Users/pc/Library/Python/3.12/lib/python/site-packages (from ipykernel) (6.0.0)\n",
      "Requirement already satisfied: pyzmq>=24 in /Users/pc/Library/Python/3.12/lib/python/site-packages (from ipykernel) (26.2.0)\n",
      "Requirement already satisfied: tornado>=6.1 in /Users/pc/Library/Python/3.12/lib/python/site-packages (from ipykernel) (6.4.1)\n",
      "Requirement already satisfied: traitlets>=5.4.0 in /Users/pc/Library/Python/3.12/lib/python/site-packages (from ipykernel) (5.14.3)\n",
      "Requirement already satisfied: scipy>=1.3.1 in /Library/Frameworks/Python.framework/Versions/3.12/lib/python3.12/site-packages (from umap-learn) (1.14.1)\n",
      "Requirement already satisfied: scikit-learn>=0.22 in /Library/Frameworks/Python.framework/Versions/3.12/lib/python3.12/site-packages (from umap-learn) (1.5.2)\n",
      "Requirement already satisfied: numba>=0.51.2 in /Library/Frameworks/Python.framework/Versions/3.12/lib/python3.12/site-packages (from umap-learn) (0.60.0)\n",
      "Requirement already satisfied: pynndescent>=0.5 in /Library/Frameworks/Python.framework/Versions/3.12/lib/python3.12/site-packages (from umap-learn) (0.5.13)\n",
      "Requirement already satisfied: tqdm in /Library/Frameworks/Python.framework/Versions/3.12/lib/python3.12/site-packages (from umap-learn) (4.66.5)\n",
      "Requirement already satisfied: tenacity>=6.2.0 in /Library/Frameworks/Python.framework/Versions/3.12/lib/python3.12/site-packages (from plotly) (9.0.0)\n",
      "Requirement already satisfied: decorator in /Users/pc/Library/Python/3.12/lib/python/site-packages (from ipython>=7.23.1->ipykernel) (5.1.1)\n",
      "Requirement already satisfied: jedi>=0.16 in /Users/pc/Library/Python/3.12/lib/python/site-packages (from ipython>=7.23.1->ipykernel) (0.19.1)\n",
      "Requirement already satisfied: prompt-toolkit<3.1.0,>=3.0.41 in /Users/pc/Library/Python/3.12/lib/python/site-packages (from ipython>=7.23.1->ipykernel) (3.0.47)\n",
      "Requirement already satisfied: pygments>=2.4.0 in /Users/pc/Library/Python/3.12/lib/python/site-packages (from ipython>=7.23.1->ipykernel) (2.18.0)\n",
      "Requirement already satisfied: stack-data in /Users/pc/Library/Python/3.12/lib/python/site-packages (from ipython>=7.23.1->ipykernel) (0.6.3)\n",
      "Requirement already satisfied: pexpect>4.3 in /Users/pc/Library/Python/3.12/lib/python/site-packages (from ipython>=7.23.1->ipykernel) (4.9.0)\n",
      "Requirement already satisfied: python-dateutil>=2.8.2 in /Users/pc/Library/Python/3.12/lib/python/site-packages (from jupyter-client>=6.1.12->ipykernel) (2.9.0.post0)\n",
      "Requirement already satisfied: platformdirs>=2.5 in /Users/pc/Library/Python/3.12/lib/python/site-packages (from jupyter-core!=5.0.*,>=4.12->ipykernel) (4.3.3)\n",
      "Requirement already satisfied: llvmlite<0.44,>=0.43.0dev0 in /Library/Frameworks/Python.framework/Versions/3.12/lib/python3.12/site-packages (from numba>=0.51.2->umap-learn) (0.43.0)\n",
      "Requirement already satisfied: joblib>=0.11 in /Library/Frameworks/Python.framework/Versions/3.12/lib/python3.12/site-packages (from pynndescent>=0.5->umap-learn) (1.4.2)\n",
      "Requirement already satisfied: threadpoolctl>=3.1.0 in /Library/Frameworks/Python.framework/Versions/3.12/lib/python3.12/site-packages (from scikit-learn>=0.22->umap-learn) (3.5.0)\n",
      "Requirement already satisfied: parso<0.9.0,>=0.8.3 in /Users/pc/Library/Python/3.12/lib/python/site-packages (from jedi>=0.16->ipython>=7.23.1->ipykernel) (0.8.4)\n",
      "Requirement already satisfied: ptyprocess>=0.5 in /Users/pc/Library/Python/3.12/lib/python/site-packages (from pexpect>4.3->ipython>=7.23.1->ipykernel) (0.7.0)\n",
      "Requirement already satisfied: wcwidth in /Users/pc/Library/Python/3.12/lib/python/site-packages (from prompt-toolkit<3.1.0,>=3.0.41->ipython>=7.23.1->ipykernel) (0.2.13)\n",
      "Requirement already satisfied: six>=1.5 in /Users/pc/Library/Python/3.12/lib/python/site-packages (from python-dateutil>=2.8.2->jupyter-client>=6.1.12->ipykernel) (1.16.0)\n",
      "Requirement already satisfied: executing>=1.2.0 in /Users/pc/Library/Python/3.12/lib/python/site-packages (from stack-data->ipython>=7.23.1->ipykernel) (2.1.0)\n",
      "Requirement already satisfied: asttokens>=2.1.0 in /Users/pc/Library/Python/3.12/lib/python/site-packages (from stack-data->ipython>=7.23.1->ipykernel) (2.4.1)\n",
      "Requirement already satisfied: pure-eval in /Users/pc/Library/Python/3.12/lib/python/site-packages (from stack-data->ipython>=7.23.1->ipykernel) (0.2.3)\n"
     ]
    }
   ],
   "source": [
    "!pip install ipykernel umap-learn plotly numpy"
   ]
  },
  {
   "cell_type": "code",
   "execution_count": 8,
   "metadata": {},
   "outputs": [
    {
     "name": "stdout",
     "output_type": "stream",
     "text": [
      "Expect a disk size of 51.750000 MB for the embeddings.\n"
     ]
    }
   ],
   "source": [
    "# 1. Producing a batch request dataset and saving to disk.\n",
    "import json\n",
    "import os\n",
    "from datetime import datetime\n",
    "\n",
    "def write_embedding_batch_dataset(story_filepath, model):\n",
    "    # Create embeddings path if non-existent\n",
    "    if not os.path.exists(\"data/embeddings\"):\n",
    "        os.makedirs(\"data/embeddings\")\n",
    "    with open(story_filepath, \"r\") as in_f, open(f\"data/embeddings/embedding_batch_{datetime.now().strftime('%Y-%m-%d-%H-%M-%S')}.jsonl\", \"w\") as out_f:\n",
    "        \n",
    "        lines = []\n",
    "        for k, line in enumerate(in_f):\n",
    "            entry = json.loads(line)\n",
    "            lines.append(json.dumps(\n",
    "                {\n",
    "                    \"custom_id\": entry[\"generation_id\"],\n",
    "                    \"method\": \"POST\",\n",
    "                    \"url\": \"/v1/embeddings\",\n",
    "                    \"body\": {\"model\": model, \"input\": entry[\"story\"]}\n",
    "                }\n",
    "            ))\n",
    "\n",
    "        if model == \"text-embedding-3-large\":\n",
    "            print(f\"Expect a disk size of {len(lines) * 0.0414:0f} MB for the embeddings.\")\n",
    "\n",
    "        out_f.write(\"\\n\".join(lines))\n",
    "\n",
    "write_embedding_batch_dataset(\"data/stories-gpt-4o-mini-2024-11-05-16-59-17.jsonl\", \"text-embedding-3-large\")\n"
   ]
  },
  {
   "cell_type": "markdown",
   "metadata": {},
   "source": [
    "2. Retrieving the batch through the OpenAI Web UI and saving to disk (To be implemented in code if needed)"
   ]
  },
  {
   "cell_type": "code",
   "execution_count": 11,
   "metadata": {},
   "outputs": [
    {
     "name": "stderr",
     "output_type": "stream",
     "text": [
      "/Library/Frameworks/Python.framework/Versions/3.12/lib/python3.12/site-packages/umap/umap_.py:1952: UserWarning: n_jobs value 1 overridden to 1 by setting random_state. Use no seed for parallelism.\n",
      "  warn(\n"
     ]
    }
   ],
   "source": [
    "# 3. Analyzing the embeddings\n",
    "\n",
    "import json\n",
    "import pandas as pd\n",
    "import numpy as np\n",
    "import umap\n",
    "import plotly.express as px\n",
    "import textwrap\n",
    "\n",
    "embeddings_file = 'data/embeddings/embedding_batch_2024-11-05-16-59-17.jsonl'\n",
    "stories_file = 'data/stories-gpt-4o-mini-2024-11-05-16-59-17.jsonl'\n",
    "\n",
    "embeddings_data = []\n",
    "with open(embeddings_file, 'r') as f:\n",
    "    for line in f:\n",
    "        embeddings_data.append(json.loads(line))\n",
    "\n",
    "stories_data = []\n",
    "with open(stories_file, 'r') as f:\n",
    "    for line in f:\n",
    "        stories_data.append(json.loads(line))\n",
    "\n",
    "story_dict = {story['generation_id']: k for k, story in enumerate(stories_data)}\n",
    "matched_data = []\n",
    "for embedding_entry in embeddings_data:\n",
    "    story_index = story_dict[embedding_entry['custom_id']]\n",
    "    embedding = embedding_entry['response']['body']['data'][0]['embedding']\n",
    "    story_info = stories_data[story_index]\n",
    "    wrapped_story = '\\n'.join(textwrap.wrap(story_info['story'], width=50))\n",
    "    matched_data.append({\n",
    "        'embedding': embedding,\n",
    "        'story': wrapped_story,\n",
    "        'theme': story_info['theme'],\n",
    "        'topic': story_info['topic']\n",
    "    })\n",
    "\n",
    "embeddings = np.array([item['embedding'] for item in matched_data])\n",
    "umap_reducer = umap.UMAP(n_neighbors=15, min_dist=0.1, n_components=2, random_state=42)\n",
    "embedding_2d = umap_reducer.fit_transform(embeddings)"
   ]
  },
  {
   "cell_type": "code",
   "execution_count": 12,
   "metadata": {},
   "outputs": [
    {
     "name": "stderr",
     "output_type": "stream",
     "text": [
      "100%|██████████| 1250/1250 [01:17<00:00, 16.17it/s] "
     ]
    },
    {
     "name": "stdout",
     "output_type": "stream",
     "text": [
      "Story 1 with maximal cosine distance:\n",
      "Cold waves crashed against the rocks as a young\n",
      "man stood at the shore, holding a mysterious map.\n",
      "The map showed a path through the sea to a hidden\n",
      "cove. His friends dared him to go, and with a deep\n",
      "breath, he set off on his small boat.   The\n",
      "journey was long and scary, with dark clouds\n",
      "above. When he finally reached the cove, he found\n",
      "a beautiful beach and strange symbols carved into\n",
      "the sand. As he examined the symbols, he felt a\n",
      "rumble beneath him. The ground began to shake, and\n",
      "he realized he had awakened something ancient.\n",
      "\n",
      "Story 2 with maximal cosine distance:\n",
      "My little girl, Mia, was in school one day, and\n",
      "she saw her friend Leo drop his snack. \"Oh no!\"\n",
      "she said, and she ran to help him. Mia picked up\n",
      "the snack and gave him her apple. Leo smiled big\n",
      "and said, \"Thank you, Mia!\" But then, Mia slipped\n",
      "on a banana peel! She fell, and everyone laughed,\n",
      "including her. \"I'm okay!\" she giggled, and then\n",
      "she helped Leo pick up the banana peel. Later, at\n",
      "home, I asked Mia about her day. She said, \"I\n",
      "helped Leo, and then he helped me!\" So, I told\n",
      "her, \"Helping is fun, just like a big circle!\" And\n",
      "that made Mia laugh again, just like at school.\n"
     ]
    },
    {
     "name": "stderr",
     "output_type": "stream",
     "text": [
      "\n"
     ]
    }
   ],
   "source": [
    "# Find closest Stories (Marked for deletion, too slow)\n",
    "\n",
    "from tqdm import tqdm\n",
    "import numpy as np\n",
    "from sklearn.metrics.pairwise import cosine_similarity\n",
    "\n",
    "# Convert the list of embeddings into a numpy array\n",
    "embeddings = np.array([entry['embedding'] for entry in matched_data])\n",
    "\n",
    "max_distance = -1\n",
    "story_pair = (None, None)\n",
    "\n",
    "# Iterate over all pairs of embeddings to compute the cosine distance\n",
    "for i in tqdm(range(len(embeddings))):\n",
    "    for j in range(i + 1, len(embeddings)):\n",
    "        similarity = cosine_similarity([embeddings[i]], [embeddings[j]])[0][0]\n",
    "        distance = 1 - similarity\n",
    "        if distance > max_distance:\n",
    "            max_distance = distance\n",
    "            story_pair = (i, j)\n",
    "\n",
    "if story_pair[0] is not None and story_pair[1] is not None:\n",
    "    story1 = matched_data[story_pair[0]]['story']\n",
    "    story2 = matched_data[story_pair[1]]['story']\n",
    "    print(\"Story 1 with maximal cosine distance:\")\n",
    "    print(story1)\n",
    "    print(\"\\nStory 2 with maximal cosine distance:\")\n",
    "    print(story2)\n",
    "else:\n",
    "    print(\"No stories to compare.\")\n"
   ]
  },
  {
   "cell_type": "code",
   "execution_count": 21,
   "metadata": {},
   "outputs": [],
   "source": [
    "# 4. Visualization with Plotly\n",
    "\n",
    "df = pd.DataFrame(embedding_2d, columns=['x', 'y'])\n",
    "df['story'] = [item['story'].replace(\"\\n\", \"<br>\").strip() for item in matched_data]\n",
    "df['theme'] = [item['theme'] for item in matched_data]\n",
    "df['topic'] = [item['topic'] for item in matched_data]\n",
    "\n",
    "hover_template = \"<b>Story:</b><br>%{customdata[0]}<br><extra></extra>\"\n",
    "\n",
    "fig = px.scatter(df, x='x', y='y', symbol='theme', color='topic', \n",
    "                 hover_data={'story': True, 'theme': False, 'x': False, 'y': False},\n",
    "                 custom_data=['story'],\n",
    "                 title=\"UMAP of Story Embeddings\")\n",
    "\n",
    "fig.update_traces(hovertemplate=hover_template)\n",
    "\n",
    "fig.update_layout(\n",
    "    title={'x': 0.5},\n",
    "    xaxis_title=None,\n",
    "    yaxis_title=None,\n",
    "    margin=dict(l=0, r=0, t=50, b=0),\n",
    "    legend_title_text='',\n",
    "    hoverlabel=dict(font_size=11),\n",
    ")\n",
    "\n",
    "if not os.path.exists(\"data/embeddings/web\"):\n",
    "    os.makedirs(\"data/embeddings/web\")\n",
    "fig.write_html(\"data/embeddings/web/index.html\")\n"
   ]
  },
  {
   "cell_type": "code",
   "execution_count": 16,
   "metadata": {},
   "outputs": [
    {
     "name": "stdout",
     "output_type": "stream",
     "text": [
      "Collecting nbformat\n",
      "  Downloading nbformat-5.10.4-py3-none-any.whl.metadata (3.6 kB)\n",
      "Collecting fastjsonschema>=2.15 (from nbformat)\n",
      "  Downloading fastjsonschema-2.20.0-py3-none-any.whl.metadata (2.1 kB)\n",
      "Requirement already satisfied: jsonschema>=2.6 in /Library/Frameworks/Python.framework/Versions/3.12/lib/python3.12/site-packages (from nbformat) (4.23.0)\n",
      "Requirement already satisfied: jupyter-core!=5.0.*,>=4.12 in /Users/pc/Library/Python/3.12/lib/python/site-packages (from nbformat) (5.7.2)\n",
      "Requirement already satisfied: traitlets>=5.1 in /Users/pc/Library/Python/3.12/lib/python/site-packages (from nbformat) (5.14.3)\n",
      "Requirement already satisfied: attrs>=22.2.0 in /Library/Frameworks/Python.framework/Versions/3.12/lib/python3.12/site-packages (from jsonschema>=2.6->nbformat) (24.2.0)\n",
      "Requirement already satisfied: jsonschema-specifications>=2023.03.6 in /Library/Frameworks/Python.framework/Versions/3.12/lib/python3.12/site-packages (from jsonschema>=2.6->nbformat) (2024.10.1)\n",
      "Requirement already satisfied: referencing>=0.28.4 in /Library/Frameworks/Python.framework/Versions/3.12/lib/python3.12/site-packages (from jsonschema>=2.6->nbformat) (0.35.1)\n",
      "Requirement already satisfied: rpds-py>=0.7.1 in /Library/Frameworks/Python.framework/Versions/3.12/lib/python3.12/site-packages (from jsonschema>=2.6->nbformat) (0.20.0)\n",
      "Requirement already satisfied: platformdirs>=2.5 in /Users/pc/Library/Python/3.12/lib/python/site-packages (from jupyter-core!=5.0.*,>=4.12->nbformat) (4.3.3)\n",
      "Downloading nbformat-5.10.4-py3-none-any.whl (78 kB)\n",
      "Downloading fastjsonschema-2.20.0-py3-none-any.whl (23 kB)\n",
      "Installing collected packages: fastjsonschema, nbformat\n",
      "Successfully installed fastjsonschema-2.20.0 nbformat-5.10.4\n"
     ]
    }
   ],
   "source": [
    "\n"
   ]
  }
 ],
 "metadata": {
  "kernelspec": {
   "display_name": "Python 3",
   "language": "python",
   "name": "python3"
  },
  "language_info": {
   "codemirror_mode": {
    "name": "ipython",
    "version": 3
   },
   "file_extension": ".py",
   "mimetype": "text/x-python",
   "name": "python",
   "nbconvert_exporter": "python",
   "pygments_lexer": "ipython3",
   "version": "3.13.0"
  }
 },
 "nbformat": 4,
 "nbformat_minor": 2
}
